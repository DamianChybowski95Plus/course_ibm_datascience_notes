{
 "cells": [
  {
   "cell_type": "markdown",
   "metadata": {},
   "source": [
    "Dzielenie liczb naturalnych 10//3; bez reszty\n",
    "Reszta z dzielenia 10%3"
   ]
  },
  {
   "cell_type": "code",
   "execution_count": 37,
   "metadata": {},
   "outputs": [
    {
     "name": "stdout",
     "output_type": "stream",
     "text": [
      "10//3 = 3\n",
      "10%3 = 1\n",
      "10/3 = 3.3333333333333335\n",
      "10/10 = 1 | type(1) <class 'float'>\n",
      "10/3 + formatowanie = 333.33\n",
      "10/3 + formatowanie = 3.3e+02\n",
      "10/3 + formatowanie = 333.33\n"
     ]
    }
   ],
   "source": [
    "# Formatowanie tekstu za pomocą f\"string\"\n",
    "print(f\"10//3 = {10//3}\") # Dzielenie bez reszty na liczbach naturalnych\n",
    "print(f\"10%3 = {10%3}\") # Reszta z dzielenia\n",
    "print(f\"10/3 = {10/3}\") # Dzielenie i konwersja do float\n",
    "print(f\"10/10 = 1 | type(1) {type(10/10)}\") # Dzielenie i konwersja do float, nwet gdy rezultatem jest liczba naturalna\n",
    "print(f\"10/3 + formatowanie = {1000/3:.5}\") # :.5 Oznacza ilość znaków za pomocą których ma próbować zapisać liczbę; \n",
    "print(f\"10/3 + formatowanie = {1000/3:.2}\") # Nie oznacza ilość cyfr po przecinku, może oznaczać zapisanie w notacji naukowej\n",
    "print(f\"10/3 + formatowanie = {1000/3:.2f}\") # f na końcu oznacza float, tak że formatowanie dotyczy tylko miejsc po przecinku"
   ]
  },
  {
   "cell_type": "code",
   "execution_count": 1,
   "metadata": {},
   "outputs": [],
   "source": [
    "# Metody int,float,string\n",
    "\n",
    "x = \"1,2,3,4\".split(\",\") # podzielenie na listę"
   ]
  }
 ],
 "metadata": {
  "kernelspec": {
   "display_name": "Python 3",
   "language": "python",
   "name": "python3"
  },
  "language_info": {
   "codemirror_mode": {
    "name": "ipython",
    "version": 3
   },
   "file_extension": ".py",
   "mimetype": "text/x-python",
   "name": "python",
   "nbconvert_exporter": "python",
   "pygments_lexer": "ipython3",
   "version": "3.11.4"
  },
  "orig_nbformat": 4
 },
 "nbformat": 4,
 "nbformat_minor": 2
}
