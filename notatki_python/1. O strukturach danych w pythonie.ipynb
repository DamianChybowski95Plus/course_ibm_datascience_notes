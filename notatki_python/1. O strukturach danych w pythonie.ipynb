{
 "cells": [
  {
   "cell_type": "markdown",
   "metadata": {},
   "source": [
    "Struktury w pythonie; rodzaje i cechy:\n",
    "\n",
    "1. Tuple - \n",
    "\n",
    "    i.  Lista zawierająca dane dowolnego / mieszanego typu\n",
    "    ii. Stała długość; \n",
    "    iii. Najprostrzy typ struktur danych; o ile pamiętam ma mniej metod."
   ]
  },
  {
   "cell_type": "markdown",
   "metadata": {},
   "source": [
    "Struktury w pythonie; porównanie"
   ]
  },
  {
   "cell_type": "markdown",
   "metadata": {},
   "source": [
    "Struktury w pythonie; Opracowanie tego które z nich stosować; podsumowanie struktur i różnic pomiędzy nimi."
   ]
  }
 ],
 "metadata": {
  "language_info": {
   "name": "python"
  },
  "orig_nbformat": 4
 },
 "nbformat": 4,
 "nbformat_minor": 2
}
